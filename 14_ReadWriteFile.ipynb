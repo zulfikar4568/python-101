{
 "cells": [
  {
   "cell_type": "markdown",
   "metadata": {},
   "source": [
    "### Read File"
   ]
  },
  {
   "cell_type": "code",
   "execution_count": 11,
   "metadata": {},
   "outputs": [
    {
     "name": "stdout",
     "output_type": "stream",
     "text": [
      "===  Membaca file txt  ===\n",
      "status read: True\n",
      "status write: False\n",
      "Hi ini adalah data string\n",
      "Dan saya sedang belajar python\n",
      "Begitu pula teman saya\n",
      "[]\n",
      "apakah file sudah diclose : False\n",
      "apakah file sudah diclose : True\n",
      "['Hi ini adalah data string\\n', 'Dan saya sedang belajar python\\n', 'Begitu pula teman saya']\n",
      "apakah file sudah diclose : False\n",
      "apakah file sudah diclose : True\n"
     ]
    }
   ],
   "source": [
    "print(3*\"=\", \" Membaca file txt \", 3*\"=\")\n",
    "file = open('data/data.txt', mode = 'r')\n",
    "\n",
    "print(f\"status read: {file.readable()}\")\n",
    "print(f\"status write: {file.writable()}\")\n",
    "\n",
    "print(file.read())\n",
    "\n",
    "print(file.readlines())\n",
    "\n",
    "print(f\"apakah file sudah diclose : {file.closed}\")\n",
    "file.close()\n",
    "print(f\"apakah file sudah diclose : {file.closed}\")\n",
    "\n",
    "# Teknik membuka file di python\n",
    "\n",
    "with open('data/data.txt', mode='r') as file:\n",
    "  content = file.readlines()\n",
    "  print(content, end=\"\")\n",
    "  print(f\"\\napakah file sudah diclose : {file.closed}\")\n",
    "\n",
    "print(f\"apakah file sudah diclose : {file.closed}\")"
   ]
  },
  {
   "cell_type": "markdown",
   "metadata": {},
   "source": [
    "### Write File"
   ]
  },
  {
   "cell_type": "code",
   "execution_count": 20,
   "metadata": {},
   "outputs": [
    {
     "name": "stdout",
     "output_type": "stream",
     "text": [
      "baris-1 \n",
      "baris-2 \n",
      "baris-3 \n",
      "\n"
     ]
    }
   ],
   "source": [
    "# 1. Mode Write\n",
    "\n",
    "\"\"\"\n",
    "1. Akan membuat file baru jika tidak ada\n",
    "2. Lalu akan menimpa atau overwrite isinya\n",
    "\"\"\"\n",
    "\n",
    "with open('data/data1.txt', 'w', encoding=\"utf-8\") as file:\n",
    "  file.write(\"merangkak\")\n",
    "\n",
    "with open('data/data1.txt', 'w', encoding=\"utf-8\") as file:\n",
    "  file.write(\"berjalan\")\n",
    "\n",
    "with open('data/data1.txt', 'w', encoding=\"utf-8\") as file:\n",
    "  file.write(\"berlari\")\n",
    "\n",
    "# 2. Mode append\n",
    "with open('data/data2.txt', 'w', encoding=\"utf-8\") as file:\n",
    "  file.write(\"merangkak\\n\")\n",
    "\n",
    "with open('data/data2.txt', 'a', encoding=\"utf-8\") as file:\n",
    "  file.write(\"berjalan\\n\")\n",
    "\n",
    "with open('data/data2.txt', 'a', encoding=\"utf-8\") as file:\n",
    "  file.write(\"berlari\\n\")\n",
    "\n",
    "# 3. Mode +r\n",
    "\n",
    "\n",
    "with open(\"data/data3.txt\",'w',encoding=\"utf-8\") as file:\n",
    "    file.write(\"data ke 3\\n\")\n",
    "\n",
    "with open(\"data/data3.txt\",'r+',encoding=\"utf-8\") as file:\n",
    "    file.write(\"baris-1 \\n\")\n",
    "    file.write(\"baris-2 \\n\")\n",
    "    file.write(\"baris-3 \\n\")\n",
    "\n",
    "with open(\"data/data3.txt\",'r+',encoding=\"utf-8\") as file:\n",
    "    data = file.read()\n",
    "    print(data)\n",
    "\n",
    "with open(\"data/data3.txt\",'r+',encoding=\"utf-8\") as file:\n",
    "    file.write(\"abcdefghijs\\n\") # menimpa isi text sesuai dengan panjang data\n",
    "    "
   ]
  }
 ],
 "metadata": {
  "kernelspec": {
   "display_name": "Python 3",
   "language": "python",
   "name": "python3"
  },
  "language_info": {
   "codemirror_mode": {
    "name": "ipython",
    "version": 3
   },
   "file_extension": ".py",
   "mimetype": "text/x-python",
   "name": "python",
   "nbconvert_exporter": "python",
   "pygments_lexer": "ipython3",
   "version": "3.9.2"
  }
 },
 "nbformat": 4,
 "nbformat_minor": 2
}
