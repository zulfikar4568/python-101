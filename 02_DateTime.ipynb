{
 "cells": [
  {
   "cell_type": "markdown",
   "metadata": {},
   "source": [
    "### Input Tanggal"
   ]
  },
  {
   "cell_type": "code",
   "execution_count": null,
   "metadata": {},
   "outputs": [],
   "source": [
    "import datetime as dt\n",
    "\n",
    "print(\"Silahkan masukan tanggal, \\nbulan dan tahun lahir anda \\n\")\n",
    "tanggal = int(input(\"Tanggal \\t: \"))\n",
    "bulan = int(input(\"Bulan \\t\\t: \"))\n",
    "tahun = int(input(\"Tahun \\t\\t: \"))\n",
    "\n",
    "tanggal_lahir = dt.date(tahun, bulan, tanggal)\n",
    "print(f\"Tanggal lahir anda adalah : {tanggal_lahir}\")"
   ]
  },
  {
   "cell_type": "markdown",
   "metadata": {},
   "source": [
    "### Hari ini"
   ]
  },
  {
   "cell_type": "code",
   "execution_count": null,
   "metadata": {},
   "outputs": [],
   "source": [
    "hari_ini = dt.date.today()\n",
    "print(f\"Hari ini tanggal: {hari_ini}\")\n",
    "\n",
    "tanggal_lahir = dt.date(1998, 4, 20)\n",
    "umur_hari = hari_ini - tanggal_lahir\n",
    "umur_tahun = umur_hari.days // 365\n",
    "umur_bulan_sisa = (umur_hari.days % 365) // 30\n",
    "\n",
    "print(f\"Hari nya adalah : {tanggal_lahir:%A}\")\n",
    "print(f\"Umur anda adalah: {umur_tahun} tahun, {umur_bulan_sisa} bulan\")"
   ]
  }
 ],
 "metadata": {
  "kernelspec": {
   "display_name": "Python 3",
   "language": "python",
   "name": "python3"
  },
  "language_info": {
   "codemirror_mode": {
    "name": "ipython",
    "version": 3
   },
   "file_extension": ".py",
   "mimetype": "text/x-python",
   "name": "python",
   "nbconvert_exporter": "python",
   "pygments_lexer": "ipython3",
   "version": "3.9.2"
  }
 },
 "nbformat": 4,
 "nbformat_minor": 2
}
