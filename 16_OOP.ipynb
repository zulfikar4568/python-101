{
 "cells": [
  {
   "cell_type": "markdown",
   "metadata": {},
   "source": [
    "### Class"
   ]
  },
  {
   "cell_type": "code",
   "execution_count": null,
   "metadata": {},
   "outputs": [],
   "source": [
    "class Hewan:\n",
    "  pass\n",
    "\n",
    "ayam = Hewan()\n",
    "tikus = Hewan()\n",
    "\n",
    "\n",
    "ayam.kaki = 2\n",
    "ayam.jengger = True\n",
    "tikus.kaki = 4\n",
    "\n",
    "print(ayam)\n",
    "print(ayam.__dict__)\n",
    "print(ayam.kaki)"
   ]
  },
  {
   "cell_type": "markdown",
   "metadata": {},
   "source": [
    "### Constructor"
   ]
  },
  {
   "cell_type": "code",
   "execution_count": null,
   "metadata": {},
   "outputs": [],
   "source": [
    "class Hewan1:\n",
    "  def __init__(self, name, description, mata, kaki):\n",
    "    self.name = name\n",
    "    self.description = description\n",
    "    self.mata = mata\n",
    "    self.kaki = kaki\n",
    "\n",
    "ayam = Hewan1('Burok', 'Ayam Petarung', 2, 2)\n",
    "tikus = Hewan1('Micky', 'Tikus kocak', 2, 4)"
   ]
  },
  {
   "cell_type": "markdown",
   "metadata": {},
   "source": [
    "### Method"
   ]
  },
  {
   "cell_type": "code",
   "execution_count": null,
   "metadata": {},
   "outputs": [],
   "source": [
    "class Hewan2:\n",
    "  def __init__(self, name, description, mata, kaki):\n",
    "    self.name = name\n",
    "    self.description = description\n",
    "    self.mata = mata\n",
    "    self.kaki = kaki\n",
    "\n",
    "  def berjalan(self):\n",
    "    print(f\"Aku berjalan menggunakan {self.kaki} kaki\")\n",
    "\n",
    "  def melihat(self, warna):\n",
    "    print(f\"aku melihat menggunakan {self.mata} mata, dan mataku berwarna {warna}\")\n",
    "\n",
    "  def tambah_kaki(self, jumlah: int):\n",
    "    self.kaki += jumlah\n",
    "    return self.kaki\n",
    "\n",
    "ayam = Hewan2('Burok', 'Ayam Petarung', 2, 2)\n",
    "ayam.berjalan()\n",
    "ayam.melihat(\"Biru\")\n",
    "print(ayam.tambah_kaki(2))\n",
    "tikus = Hewan2('Micky', 'Tikus kocak', 2, 4)\n",
    "tikus.berjalan()\n",
    "ayam.melihat(\"Hitam\")"
   ]
  },
  {
   "cell_type": "code",
   "execution_count": null,
   "metadata": {},
   "outputs": [],
   "source": [
    "### Access Modifier"
   ]
  },
  {
   "cell_type": "code",
   "execution_count": null,
   "metadata": {},
   "outputs": [],
   "source": [
    "class Hewan3:\n",
    "  __kelamin = \"\"\n",
    "\n",
    "  def __init__(self, name, description, mata, kaki, kelamin):\n",
    "    self.name = name\n",
    "    self.description = description\n",
    "    self.mata = mata\n",
    "    self.kaki = kaki\n",
    "    self.__kelamin = kelamin\n",
    "\n",
    "    self.__private = \"ini adalah private\"  # hanya berlaku untuk class itu sendiri\n",
    "    self._protected = \"ini adalah protected\" # hanya berlaku untuk class itu sendiri dan turunannya\n",
    "    self.public = \"ini adalah public\" # berlaku untuk semua\n",
    "\n",
    "  def berjalan(self):\n",
    "    print(f\"Aku berjalan menggunakan {self.kaki} kaki\")\n",
    "\n",
    "  def melihat(self, warna):\n",
    "    print(f\"aku melihat menggunakan {self.mata} mata, dan mataku berwarna {warna}\")\n",
    "\n",
    "  def tambah_kaki(self, jumlah: int):\n",
    "    self.kaki += jumlah\n",
    "    return self.kaki\n",
    "  \n",
    "ayam = Hewan3('Burok', 'Ayam Petarung', 2, 2, \"jantan\")\n",
    "# print(ayam.__kelamin) # Error --> 'Hewan' object has no attribute '__kelamin'\n",
    "print(ayam._protected)"
   ]
  },
  {
   "cell_type": "markdown",
   "metadata": {},
   "source": [
    "### Enkapsulasi"
   ]
  },
  {
   "cell_type": "code",
   "execution_count": null,
   "metadata": {},
   "outputs": [],
   "source": [
    "class Hewan4:\n",
    "  def __init__(self, name, description, mata, kaki):\n",
    "    self.__name = name\n",
    "    self.__description = description\n",
    "    self.__mata = mata\n",
    "    self.__kaki = kaki\n",
    "\n",
    "  # getter\n",
    "  def get_name(self):\n",
    "    return self.__name\n",
    "  \n",
    "  # setter\n",
    "  def set_name(self, name):\n",
    "    self.__name = name\n",
    "\n",
    "ayam = Hewan4('Burok', 'Ayam Petarung', 2, 2)\n",
    "print(ayam.get_name())\n",
    "ayam.set_name(\"Jax\")\n",
    "print(ayam.get_name())"
   ]
  },
  {
   "cell_type": "markdown",
   "metadata": {},
   "source": [
    "### Static Method and Class Method"
   ]
  },
  {
   "cell_type": "code",
   "execution_count": null,
   "metadata": {},
   "outputs": [],
   "source": [
    "class Hewan5:\n",
    "  __kelamin = \"\"\n",
    "  \n",
    "  def __init__(self, name):\n",
    "    self.__name = name\n",
    "    Hewan5.__kelamin = \"Jantan\" # menjadi static variable\n",
    "\n",
    "  # method ini hanya berlaku pada object\n",
    "  def get_kelamin(self):\n",
    "    return Hewan5.__kelamin\n",
    "  \n",
    "  # static method\n",
    "  def get_kelamin1():\n",
    "    return Hewan5.__kelamin\n",
    "  \n",
    "  # method static (decorator) nempel ke objek dan class\n",
    "  @staticmethod\n",
    "  def get_kelamin2():\n",
    "    return Hewan5.__kelamin\n",
    "  \n",
    "  @classmethod\n",
    "  def get_kelamin3(cls):\n",
    "    return cls.__kelamin\n",
    "  \n",
    "ayam = Hewan5('Burok')\n",
    "print(ayam.get_kelamin())\n",
    "# print(ayam.get_kelamin1()) # tidak bisa\n",
    "print(ayam.get_kelamin2())\n",
    "print(ayam.get_kelamin3())\n",
    "\n",
    "# Hewan5.get_kelamin() # tidak bisa\n",
    "print(\"Static Method: \" + Hewan5.get_kelamin1())\n",
    "print(\"Static Method: \" + Hewan5.get_kelamin2())\n",
    "print(\"Static Method: \" + Hewan5.get_kelamin3())"
   ]
  },
  {
   "cell_type": "markdown",
   "metadata": {},
   "source": [
    "### Getter dan Setter"
   ]
  },
  {
   "cell_type": "code",
   "execution_count": null,
   "metadata": {},
   "outputs": [],
   "source": [
    "class Hewan6:\n",
    "  def __init__(self, name, kelamin):\n",
    "    self.__name = name\n",
    "    self.__kelamin = kelamin\n",
    "\n",
    "  @property\n",
    "  def info(self):\n",
    "    return f\"Name: {self.__name} \\n\\tKelamin: {self.__kelamin}\"\n",
    "  \n",
    "  @property\n",
    "  def kelamin(self):\n",
    "    pass\n",
    "\n",
    "  # Getter\n",
    "  @kelamin.getter\n",
    "  def kelamin(self):\n",
    "    return self.__kelamin\n",
    "\n",
    "  # Setter\n",
    "  @kelamin.setter\n",
    "  def kelamin(self, value):\n",
    "    self.__kelamin = value\n",
    "\n",
    "  # Deleter\n",
    "  @kelamin.deleter\n",
    "  def kelamin(self):\n",
    "    print('Delete kelamin!')\n",
    "    self.__kelamin = None\n",
    "\n",
    "ayam_burok = Hewan6(\"Burok\", \"Jantan\")\n",
    "print(ayam_burok.info)\n",
    "\n",
    "#getter\n",
    "print(ayam_burok.kelamin)\n",
    "\n",
    "#setter\n",
    "ayam_burok.kelamin = \"Jantan\"\n",
    "print(ayam_burok.kelamin)\n",
    "\n",
    "#deleter\n",
    "del ayam_burok.kelamin\n",
    "print(ayam_burok.kelamin)"
   ]
  },
  {
   "cell_type": "markdown",
   "metadata": {},
   "source": [
    "### Inheritance"
   ]
  },
  {
   "cell_type": "code",
   "execution_count": null,
   "metadata": {},
   "outputs": [],
   "source": [
    "class Hewan7:\n",
    "  def __init__(self, name, kelamin):\n",
    "    self.name = name\n",
    "    self.__kelamin = kelamin\n",
    "\n",
    "  @property\n",
    "  def kelamin(self):\n",
    "    pass\n",
    "\n",
    "  # Getter\n",
    "  @kelamin.getter\n",
    "  def kelamin(self):\n",
    "    return self.__kelamin\n",
    "\n",
    "  # Setter\n",
    "  @kelamin.setter\n",
    "  def kelamin(self, value):\n",
    "    self.__kelamin = value\n",
    "\n",
    "  # Deleter\n",
    "  @kelamin.deleter\n",
    "  def kelamin(self):\n",
    "    print('Delete kelamin!')\n",
    "    self.__kelamin = None\n",
    "\n",
    "class Ayam(Hewan7):\n",
    "  pass\n",
    "\n",
    "class Anjing(Hewan7):\n",
    "  pass\n",
    "\n",
    "ayam_ujang = Ayam(\"Ujang\", \"Jantan\")\n",
    "anjing_ucok = Anjing(\"Ucok\", \"Jantan\")\n",
    "\n",
    "print(ayam_ujang.kelamin)\n",
    "print(anjing_ucok.kelamin)\n"
   ]
  },
  {
   "cell_type": "markdown",
   "metadata": {},
   "source": [
    "### Super"
   ]
  },
  {
   "cell_type": "code",
   "execution_count": null,
   "metadata": {},
   "outputs": [],
   "source": [
    "class Hewan8:\n",
    "  def __init__(self, name, kelamin, ciri_khas):\n",
    "    self.name = name\n",
    "    self.kelamin = kelamin\n",
    "    self.ciri_khas = ciri_khas\n",
    "\n",
    "  def show_info(self):\n",
    "    print(\"{} dengan kelamin: {} dan ciri: {}\".format(self.name,self.kelamin,self.ciri_khas))\n",
    "\n",
    "class Kucing(Hewan8):\n",
    "  def __init__(self, name, kelamin):\n",
    "    super().__init__(name, kelamin, \"Berbulu\")\n",
    "    super().show_info()\n",
    "\n",
    "class Cupang(Hewan8):\n",
    "  def __init__(self, name, kelamin):\n",
    "    super().__init__(name, kelamin, \"Bagus Siripnya\")\n",
    "    super().show_info()\n",
    "\n",
    "athen = Kucing('Athen', 'Betina')\n",
    "print(athen.__dict__)"
   ]
  },
  {
   "cell_type": "markdown",
   "metadata": {},
   "source": [
    "### Override"
   ]
  },
  {
   "cell_type": "code",
   "execution_count": null,
   "metadata": {},
   "outputs": [],
   "source": [
    "class Hewan9:\n",
    "  def __init__(self, name, kelamin, ciri_khas):\n",
    "    self.name = name\n",
    "    self.kelamin = kelamin\n",
    "    self.ciri_khas = ciri_khas\n",
    "\n",
    "  def show_info(self):\n",
    "    print(\"{} dengan kelamin: {} dan ciri: {}\".format(self.name,self.kelamin,self.ciri_khas))\n",
    "\n",
    "class Marmot(Hewan9):\n",
    "  def __init__(self, name, kelamin):\n",
    "    super().__init__(name, kelamin, \"Kecil dan berbulu\")\n",
    "\n",
    "  #override\n",
    "  def show_info(self):\n",
    "    print(\"{} dengan kelamin: {} dan ciri: {} \\n\\t dan ini adalah marmot\".format(self.name,self.kelamin,self.ciri_khas))\n",
    "\n",
    "catos = Marmot('Catos', 'Betina')\n",
    "catos.show_info()"
   ]
  },
  {
   "cell_type": "markdown",
   "metadata": {},
   "source": [
    "### Multiple Inheritance"
   ]
  },
  {
   "cell_type": "code",
   "execution_count": null,
   "metadata": {},
   "outputs": [],
   "source": [
    "class A:\n",
    "\n",
    "\tdef method_A(self):\n",
    "\t\tprint(\"ini adalah method A\")\n",
    "\n",
    "class B:\n",
    "\n",
    "\tdef method_B(self):\n",
    "\t\tprint(\"ini adalah method B\")\n",
    "\t\t\n",
    "class C(A, B):\n",
    "\tpass\n",
    "\n",
    "objek = C()\n",
    "objek.method_A()\n",
    "objek.method_B()"
   ]
  },
  {
   "cell_type": "markdown",
   "metadata": {},
   "source": [
    "### Method Resolution Order"
   ]
  },
  {
   "cell_type": "code",
   "execution_count": null,
   "metadata": {},
   "outputs": [],
   "source": [
    "class A:\n",
    "  def show(self):\n",
    "    print(\"ini adalah method A\")\n",
    "\n",
    "class B:\n",
    "\tdef show(self):\n",
    "\t\tprint(\"ini adalah method B\")\n",
    "          \n",
    "class C(A, B):\n",
    "\tpass\n",
    "\n",
    "class D(B, A):\n",
    "\tpass\n",
    "\n",
    "objek = C()\n",
    "help(objek)\n",
    "objek.show() # eksekusi mana dulu nih?\n",
    "\n",
    "objek2 = D()\n",
    "help(objek2)\n",
    "objek2.show() # eksekusi mana dulu nih?"
   ]
  },
  {
   "cell_type": "markdown",
   "metadata": {},
   "source": [
    "### Diamond Problem"
   ]
  },
  {
   "cell_type": "code",
   "execution_count": null,
   "metadata": {},
   "outputs": [],
   "source": [
    "# diamond problem\n",
    "# Urutannya adalah D, B, C, A\n",
    "# jika show tidak ada di D maka akan ke B, jika di B tidak ada maka akan ke C, jika di C tidak ada maka akan ke A\n",
    "\n",
    "class A:\n",
    "\tdef show(self):\n",
    "\t\tprint(\"ini adalah show A\")\n",
    "\n",
    "class B(A):\n",
    "\tdef show(self):\n",
    "\t\tprint(\"ini adalah show B\")\n",
    "\n",
    "class C(A):\n",
    "\tdef show(self):\n",
    "\t\tprint(\"ini adalah show C\")\n",
    "\n",
    "class D(B,C):\n",
    "\tpass\n",
    "\n",
    "objek = D()\n",
    "objek.show()\n",
    "help(objek)"
   ]
  },
  {
   "cell_type": "markdown",
   "metadata": {},
   "source": [
    "### Magic Method"
   ]
  },
  {
   "cell_type": "code",
   "execution_count": null,
   "metadata": {},
   "outputs": [],
   "source": [
    "class Mangga:\n",
    "\n",
    "\t#magic method\n",
    "\tdef __init__(self,nama,jumlah):\n",
    "\t\tself.nama = nama\n",
    "\t\tself.jumlah = jumlah\n",
    "\n",
    "\tdef __repr__(self):\n",
    "\t\treturn \"Debug - Mangga: {} dengan jumlah: {}\".format(self.nama,self.jumlah)\n",
    "\n",
    "\tdef __str__(self):\n",
    "\t\treturn \"Mangga: {} dengan jumlah: {}\".format(self.nama,self.jumlah)\n",
    "\n",
    "\tdef __add__(self,objek):\n",
    "\t\treturn self.jumlah + objek.jumlah\n",
    "\n",
    "\t@property\n",
    "\tdef __dict__(self):\n",
    "\t\treturn \"objek ini mempunyai nama dan jumlah\"\n",
    "\n",
    "\n",
    "belanja1 = Mangga(\"arumanis\",10)\n",
    "belanja2 = Mangga(\"mana lagi\",30)\n",
    "print(belanja1)\n",
    "print(belanja2)\n",
    "print(belanja1 + belanja2)\n",
    "print(belanja1.__dict__)"
   ]
  },
  {
   "cell_type": "markdown",
   "metadata": {},
   "source": [
    "### Abstract Class"
   ]
  },
  {
   "cell_type": "code",
   "execution_count": null,
   "metadata": {},
   "outputs": [],
   "source": [
    "# membuat class abstract\n",
    "# abc = abstract base class\n",
    "from abc import ABC,abstractmethod\n",
    "\n",
    "class Shape(ABC):\n",
    "\n",
    "  def __init__(self, deskripsi):\n",
    "    self.deskripsi = deskripsi\n",
    "\n",
    "  @abstractmethod\n",
    "  def luas(self):\n",
    "    pass\n",
    "\n",
    "  @property\n",
    "  @abstractmethod\n",
    "  def deskripsi(self):\n",
    "    pass\n",
    "\n",
    "\n",
    "class Kotak(Shape):\n",
    "  sisi = 0\n",
    "  def __init__(self, sisi) -> None:\n",
    "    super().__init__(\"Ini adalah kotak\")\n",
    "    self.sisi = sisi\n",
    "\n",
    "  def luas(self):\n",
    "    luasnya = self.sisi * self.sisi\n",
    "    print(\"Luasnnya adalah: \"+ str(luasnya))\n",
    "\n",
    "  @Shape.deskripsi.setter\n",
    "  def deskripsi(self, input):\n",
    "    self.__deskripsi = input\n",
    "\n",
    "  @deskripsi.getter\n",
    "  def deskripsi(self):\n",
    "    return self.__deskripsi\n",
    "\n",
    "# shape1 = Shape() # Can't instantiate abstract class Shape with abstract method luas\n",
    "kotak1 = Kotak(6)\n",
    "kotak1.luas()\n",
    "print(kotak1.deskripsi)\n",
    "help(kotak1)\n"
   ]
  }
 ],
 "metadata": {
  "kernelspec": {
   "display_name": "Python 3",
   "language": "python",
   "name": "python3"
  },
  "language_info": {
   "codemirror_mode": {
    "name": "ipython",
    "version": 3
   },
   "file_extension": ".py",
   "mimetype": "text/x-python",
   "name": "python",
   "nbconvert_exporter": "python",
   "pygments_lexer": "ipython3",
   "version": "3.9.2"
  }
 },
 "nbformat": 4,
 "nbformat_minor": 2
}
