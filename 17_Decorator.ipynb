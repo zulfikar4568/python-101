{
 "cells": [
  {
   "cell_type": "code",
   "execution_count": null,
   "metadata": {},
   "outputs": [],
   "source": [
    "def inspect(func):\n",
    "  def wraped_func(*args, **kwargs):\n",
    "    print(f\"Function name: {func.__name__}\")\n",
    "    val = func(*args, **kwargs)\n",
    "    print(val)\n",
    "    return val\n",
    "  return wraped_func\n",
    "\n",
    "@inspect\n",
    "def combine(a, b):\n",
    "  return a + b\n",
    "\n",
    "print(\"Hasilnya adalah: \" + str(combine(1,3)))"
   ]
  }
 ],
 "metadata": {
  "kernelspec": {
   "display_name": "Python 3",
   "language": "python",
   "name": "python3"
  },
  "language_info": {
   "name": "python",
   "version": "3.9.2"
  }
 },
 "nbformat": 4,
 "nbformat_minor": 2
}
