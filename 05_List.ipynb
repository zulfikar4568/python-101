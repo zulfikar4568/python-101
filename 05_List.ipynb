{
 "cells": [
  {
   "cell_type": "markdown",
   "metadata": {},
   "source": [
    "### Cara Membuat List"
   ]
  },
  {
   "cell_type": "code",
   "execution_count": null,
   "metadata": {},
   "outputs": [],
   "source": [
    "data_angka = [1,3,4,5,6]\n",
    "print(data_angka)\n",
    "\n",
    "data_string = [\"zul\", \"fikar\", \"is\", \"naen\"]\n",
    "print(data_string)\n",
    "\n",
    "data_campur = [1, \"zul\", 2, \"fikar\", 3, \"is\", 4, \"naen\"]\n",
    "print(data_campur)\n",
    "\n",
    "data_range = range(1,15)\n",
    "print(data_range)\n",
    "data_list = list(data_range)\n",
    "print(data_list)\n",
    "\n",
    "# membuat list dengan for loop, list comprehension\n",
    "list_pake_for = [i**2 for i in range(1,10)]\n",
    "print(list_pake_for)\n",
    "\n",
    "# membuat list pake for pake if\n",
    "list_pake_if = [i for i in range(1,10) if i != 5]\n",
    "print(list_pake_if)"
   ]
  },
  {
   "cell_type": "markdown",
   "metadata": {},
   "source": [
    "### Operasi pada list"
   ]
  },
  {
   "cell_type": "code",
   "execution_count": null,
   "metadata": {},
   "outputs": [],
   "source": [
    "kumpulan_nama = [\"Asep\", \"Ucok\", \"Ipin\"]\n",
    "\n",
    "print(kumpulan_nama[0]) # Data Pertama\n",
    "print(kumpulan_nama[-1]) # Data Terakhir\n",
    "print(kumpulan_nama[-2]) # Data Terakhir kedua\n",
    "\n",
    "print(len(kumpulan_nama)) # Panjang List\n",
    "\n",
    "kumpulan_nama.insert(1, \"Ujang\") # Insert di list ke index 1\n",
    "print(kumpulan_nama)\n",
    "\n",
    "kumpulan_nama.append(\"Alex\") # Menambah di akhir\n",
    "print(kumpulan_nama)\n",
    "\n",
    "kumpulan_nama_baru = [\"Lucky\", \"Steve\"]\n",
    "kumpulan_nama.extend(kumpulan_nama_baru) # Meng extend list\n",
    "\n",
    "print(kumpulan_nama)\n",
    "\n",
    "kumpulan_nama[0] = \"Asep Surya\"\n",
    "print(kumpulan_nama) # Mengubah array\n",
    "\n",
    "kumpulan_nama.remove(\"Ucok\") # Menghapus nama Ucok\n",
    "kumpulan_nama.pop() # Menghapus paling akhir\n",
    "\n",
    "print(kumpulan_nama)\n",
    "\n",
    "print(\"Index Ujang ke: \", kumpulan_nama.index(\"Ujang\")) # Mengambil index\n",
    "\n",
    "data_angka = [1,2,5,4,3,2,5,2,6,8,5,8,9,2,5,6,7,3,4,5,6,7,3]\n",
    "\n",
    "print(data_angka.count(2)) # Menghitung jumlah angka 2\n",
    "print(data_angka.count(6)) # Menghitung jumlah angka 6\n",
    "\n",
    "print(f\"data angka sebelum sort = \\n{data_angka}\")\n",
    "data_angka.sort() # sort\n",
    "print(f\"data angka sort = \\n{data_angka}\")\n",
    "\n",
    "data_angka.reverse() # reverse\n",
    "print(f\"data angka reverse = \\n{data_angka}\")"
   ]
  },
  {
   "cell_type": "markdown",
   "metadata": {},
   "source": [
    "### Meng Copy List"
   ]
  },
  {
   "cell_type": "code",
   "execution_count": null,
   "metadata": {},
   "outputs": [],
   "source": [
    "a = [\"Ucup\",\"Otong\",\"Dudung\"]\n",
    "print(f\"a = {a}\")\n",
    "\n",
    "b = a # pass by reference\n",
    "print(f\"b = {b}\")\n",
    "\n",
    "a[0] = \"Alex\" # Ubah Index pertama\n",
    "print(f\"a = {a}\")\n",
    "print(f\"b = {b}\") # b akan ikut keubah\n",
    "\n",
    "# print address\n",
    "print(f\"address a = {hex(id(a))}\")\n",
    "print(f\"address b = {hex(id(b))}\")\n",
    "\n",
    "# Menduplikat list dengan Copy\n",
    "print(\"membuat list c dengan a.copy()\")\n",
    "c = a.copy()\n",
    "\n",
    "print(f\"address a = {hex(id(a))}\")\n",
    "print(f\"address b = {hex(id(b))}\")\n",
    "print(f\"address b = {hex(id(c))}\")\n",
    "\n",
    "a[0] = \"Idoy\"\n",
    "print(f\"a = {a}\")\n",
    "print(f\"b = {b}\")\n",
    "print(f\"c = {c}\") # c tidak akan ikut ke ubah"
   ]
  },
  {
   "cell_type": "markdown",
   "metadata": {},
   "source": [
    "### Nested List"
   ]
  },
  {
   "cell_type": "code",
   "execution_count": null,
   "metadata": {},
   "outputs": [],
   "source": [
    "data_0 = [1,2,3,4]\n",
    "data_1 = [9,8,7,6]\n",
    "\n",
    "data_2D = [data_0, data_1]\n",
    "print(data_2D)\n",
    "print(data_2D[0][1])"
   ]
  },
  {
   "cell_type": "markdown",
   "metadata": {},
   "source": [
    "### Copy Nested List"
   ]
  },
  {
   "cell_type": "code",
   "execution_count": null,
   "metadata": {},
   "outputs": [],
   "source": [
    "data_0 = [1,2,3,4]\n",
    "data_1 = [9,8,7,6]\n",
    "\n",
    "data_2D = [data_0, data_1]\n",
    "data_2D_copy = data_2D.copy()\n",
    "\n",
    "print(f\"address asli = {hex(id(data_2D))}\")\n",
    "print(f\"address copy = {hex(id(data_2D_copy))}\")\n",
    "\n",
    "print(\"address dari member ke-1\")\n",
    "print(f\"address asli = {hex(id(data_2D[0]))}\")\n",
    "print(f\"address copy = {hex(id(data_2D_copy[0]))}\")\n",
    "\n",
    "# Dengan cara diatas, Permasalahannya address ke 1 masih pass by reference\n",
    "# Gunaka deepcopy\n",
    "from copy import deepcopy\n",
    "\n",
    "data_2D_deepcopy = deepcopy(data_2D)\n",
    "\n",
    "print(f\"address asli = {hex(id(data_2D))}\")\n",
    "print(f\"address copy = {hex(id(data_2D_deepcopy))}\")\n",
    "\n",
    "print(\"address dari member ke-1\")\n",
    "print(f\"address asli = {hex(id(data_2D[0]))}\")\n",
    "print(f\"address copy = {hex(id(data_2D_deepcopy[0]))}\")\n"
   ]
  },
  {
   "cell_type": "markdown",
   "metadata": {},
   "source": [
    "### List Loop"
   ]
  },
  {
   "cell_type": "code",
   "execution_count": null,
   "metadata": {},
   "outputs": [],
   "source": [
    "# enumerate\n",
    "print(\"\\nEnumerate\")\n",
    "data_list = [\"ucup\",1,2,3,\"otong\"]\n",
    "\n",
    "for index,data in enumerate(data_list):\n",
    "\tprint(f\"index = {index}, data = {data}\")"
   ]
  }
 ],
 "metadata": {
  "kernelspec": {
   "display_name": "Python 3",
   "language": "python",
   "name": "python3"
  },
  "language_info": {
   "codemirror_mode": {
    "name": "ipython",
    "version": 3
   },
   "file_extension": ".py",
   "mimetype": "text/x-python",
   "name": "python",
   "nbconvert_exporter": "python",
   "pygments_lexer": "ipython3",
   "version": "3.9.2"
  }
 },
 "nbformat": 4,
 "nbformat_minor": 2
}
