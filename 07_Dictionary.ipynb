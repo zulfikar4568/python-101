{
 "cells": [
  {
   "cell_type": "markdown",
   "metadata": {},
   "source": [
    "### Dictionary"
   ]
  },
  {
   "cell_type": "code",
   "execution_count": null,
   "metadata": {},
   "outputs": [],
   "source": [
    "data_dictionary = dict({\n",
    "  'key': 'value',\n",
    "  'zul': 1998,\n",
    "  'umur': 23\n",
    "})\n",
    "\n",
    "print(data_dictionary['key'])\n",
    "print(data_dictionary['zul'])\n",
    "print(data_dictionary['umur'])\n",
    "print(data_dictionary.get('zul', 'not-found'))\n",
    "print(data_dictionary.get('not-found', 'umur'))\n",
    "\n",
    "print(len(data_dictionary)) # length of data dictionary\n",
    "\n",
    "print(data_dictionary)\n",
    "data_dictionary['zul'] = 'Isnaen Zulfikar' # Update\n",
    "data_dictionary.update({'umur': 25})\n",
    "print(data_dictionary)\n",
    "\n",
    "del data_dictionary['key'] # Delete \n",
    "print(data_dictionary)"
   ]
  },
  {
   "cell_type": "markdown",
   "metadata": {},
   "source": [
    "### Looping Dictionary"
   ]
  },
  {
   "cell_type": "code",
   "execution_count": null,
   "metadata": {},
   "outputs": [],
   "source": [
    "brand_hp = {\n",
    "  'j15': 'samsung',\n",
    "  'iphone14': 'iphone',\n",
    "  'iphone12': 'iphone'\n",
    "}\n",
    "\n",
    "for brand in brand_hp:\n",
    "  print(brand)\n",
    "\n",
    "keys = brand_hp.keys()\n",
    "print(keys)\n",
    "\n",
    "values = brand_hp.values()\n",
    "print(values)\n",
    "\n",
    "for key in keys:\n",
    "  print(brand_hp.get(key))\n",
    "\n",
    "for value in values:\n",
    "  print(value)\n",
    "\n",
    "items = brand_hp.items()\n",
    "print(items)\n",
    "\n",
    "for key,value in items:\n",
    "  print(f\"key = {key}, value = {value}\")"
   ]
  },
  {
   "cell_type": "markdown",
   "metadata": {},
   "source": [
    "### Copy Dictionar"
   ]
  },
  {
   "cell_type": "code",
   "execution_count": 25,
   "metadata": {},
   "outputs": [],
   "source": [
    "brand_hp = {\n",
    "  'j15': 'samsung',\n",
    "  'iphone14': 'iphone',\n",
    "  'iphone12': 'iphone'\n",
    "}\n",
    "\n",
    "brand_hp_copy = brand_hp.copy()"
   ]
  },
  {
   "cell_type": "markdown",
   "metadata": {},
   "source": [
    "### Multikey Dictionary"
   ]
  },
  {
   "cell_type": "code",
   "execution_count": 27,
   "metadata": {},
   "outputs": [
    {
     "name": "stdout",
     "output_type": "stream",
     "text": [
      "KEY    Nama              SKS Beasiswa  Lahir     \n",
      "--------------------------------------------------\n",
      "MAH001 Ucup Surucup      130     0     04/10/01  \n",
      "MAH002 Otong Surotong    140     1     10/10/02  \n",
      "MAH003 Asep Si Kasyep    100     0     02/29/00  \n"
     ]
    }
   ],
   "source": [
    "import datetime\n",
    "\n",
    "mahasiswa1 = {\n",
    "\t'nama':'Ucup Surucup',\n",
    "\t'nim':'19022001',\n",
    "\t'sks_lulus':130,\n",
    "\t'beasiswa':False,\n",
    "\t'lahir':datetime.datetime(2001,4,10)\n",
    "}\n",
    "\n",
    "mahasiswa2 = {\n",
    "\t'nama':'Otong Surotong',\n",
    "\t'nim':'19022002',\n",
    "\t'sks_lulus':140,\n",
    "\t'beasiswa':True,\n",
    "\t'lahir':datetime.datetime(2002,10,10)\n",
    "}\n",
    "\n",
    "mahasiswa3 = {\n",
    "\t'nama':'Asep Si Kasyep',\n",
    "\t'nim':'19022003',\n",
    "\t'sks_lulus':100,\n",
    "\t'beasiswa':False,\n",
    "\t'lahir':datetime.datetime(2000,2,29)\n",
    "}\n",
    "\n",
    "data_mahasiswa = {\n",
    "\t'MAH001':mahasiswa1,\n",
    "\t'MAH002':mahasiswa2,\n",
    "\t'MAH003':mahasiswa3\n",
    "}\n",
    "\n",
    "print(f\"{'KEY':<6} {'Nama':<17} {'SKS':<3} {'Beasiswa':<9} {'Lahir':<10}\")\n",
    "print(\"-\"*50)\n",
    "\n",
    "for mahasiswa in data_mahasiswa:\n",
    "\tKEY = mahasiswa\n",
    "\n",
    "\tNAMA = data_mahasiswa[KEY]['nama']\n",
    "\tNIM = data_mahasiswa[KEY]['nim']\n",
    "\tSKS = data_mahasiswa[KEY]['sks_lulus']\n",
    "\tBEASISWA = data_mahasiswa[KEY]['beasiswa']\n",
    "\tLAHIR = data_mahasiswa[KEY]['lahir'].strftime(\"%x\")\n",
    "\n",
    "\tprint(f\"{KEY:<6} {NAMA:<17} {SKS:<3} {BEASISWA:^9} {LAHIR:<10}\")\n"
   ]
  }
 ],
 "metadata": {
  "kernelspec": {
   "display_name": "Python 3",
   "language": "python",
   "name": "python3"
  },
  "language_info": {
   "codemirror_mode": {
    "name": "ipython",
    "version": 3
   },
   "file_extension": ".py",
   "mimetype": "text/x-python",
   "name": "python",
   "nbconvert_exporter": "python",
   "pygments_lexer": "ipython3",
   "version": "3.9.2"
  }
 },
 "nbformat": 4,
 "nbformat_minor": 2
}
