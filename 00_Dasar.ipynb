{
 "cells": [
  {
   "cell_type": "markdown",
   "metadata": {},
   "source": [
    "# Learning Python"
   ]
  },
  {
   "cell_type": "code",
   "execution_count": null,
   "metadata": {},
   "outputs": [],
   "source": [
    "print('Hello World')"
   ]
  },
  {
   "cell_type": "markdown",
   "metadata": {},
   "source": [
    "## Python Dasar"
   ]
  },
  {
   "cell_type": "markdown",
   "metadata": {},
   "source": [
    "### 1. Variable dan Tipe Data"
   ]
  },
  {
   "cell_type": "code",
   "execution_count": null,
   "metadata": {},
   "outputs": [],
   "source": [
    "a = 10 # integer\n",
    "b = 5 # integer\n",
    "c = \">>Ini adalah string<<\" # string\n",
    "d = True # boolean\n",
    "e = 10.3 # float\n",
    "f = 9.98 # float\n",
    "g = complex(4,5) # complex\n",
    "\n",
    "ini_variable_saya = \"Hi\" # Penamaan snake case\n",
    "\n",
    "print(a,b,c,d,e,f,g)\n",
    "\n",
    "# print(a+c) # Error string tidak bisa di tambah dengan number\n",
    "# print(d+c) # Error string tidak bisa di tambah dengan boolean\n",
    "print(b+d) # Boolean dianggap 1 jika di tambah dengan number\n",
    "print(e+f)\n",
    "print(type(a), type(b), type(c), type(d), type(e), type(f))\n",
    "\n",
    "# Type dari bahasa C\n",
    "\n",
    "from ctypes import c_double, c_char\n",
    "\n",
    "data_c_double = c_double(4)\n",
    "print(\"data :\", data_c_double, \" type : \", type(data_c_double))"
   ]
  },
  {
   "cell_type": "markdown",
   "metadata": {},
   "source": [
    "### 2. Casting Tipe Data\n",
    "Casting digunakan untuk merubah tipe data ke tipe lainnya"
   ]
  },
  {
   "cell_type": "code",
   "execution_count": null,
   "metadata": {},
   "outputs": [],
   "source": [
    "## INTEGER\n",
    "data_int = 10\n",
    "\n",
    "data_float = float(data_int)\n",
    "data_str = str(data_int)\n",
    "data_bool = bool(data_int)\n",
    "\n",
    "print(data_float, data_str, data_bool)\n",
    "print(type(data_float), type(data_str), type(data_bool))\n",
    "\n",
    "## FLOAT\n",
    "data_float = 8.783\n",
    "\n",
    "data_int = int(data_float) # Dibulatkan ke bawah\n",
    "data_str = str(data_float)\n",
    "data_bool = bool(data_float)\n",
    "\n",
    "print(data_int, data_str, data_bool)\n",
    "print(type(data_int), type(data_str), type(data_bool))\n",
    "\n",
    "## BOOLEAN\n",
    "data_bool = False\n",
    "\n",
    "data_int = int(data_bool) # false di anggap 0\n",
    "data_float = float(data_bool) # false di anggap 0.0\n",
    "data_str = str(data_bool)\n",
    "\n",
    "print(data_int, data_str, data_float)\n",
    "print(type(data_int), type(data_str), type(data_float))\n",
    "\n",
    "## STRING\n",
    "data_str = \"10\"\n",
    "# data_str = \"saya\" # Tidak akan bisa di convert ke int atau float\n",
    "\n",
    "data_int = int(data_str)\n",
    "data_float = float(data_str)\n",
    "data_bool = bool(data_str)\n",
    "\n",
    "print(data_int, data_bool, data_float)\n",
    "print(type(data_int), type(data_bool), type(data_float))"
   ]
  },
  {
   "cell_type": "markdown",
   "metadata": {},
   "source": [
    "### 3. Mengambil data dari User"
   ]
  },
  {
   "cell_type": "code",
   "execution_count": null,
   "metadata": {},
   "outputs": [],
   "source": [
    "data = input(\"Masukan data : \") # By default adalah string\n",
    "\n",
    "print(\"Data nya adalah: \", data, type(data))\n",
    "\n",
    "angka = int(input(\"angka : \"))\n",
    "print(\"angka nya adalah: \", angka, type(angka))\n",
    "angka = float(input(\"angka : \"))\n",
    "print(\"angka nya adalah: \", angka, type(angka))\n",
    "\n",
    "data_bool = bool(int(input(\"bool : \"))) # Input berupa 1 atau 0\n",
    "\n",
    "print(\"Boolean nya adalah: \", data_bool, type(data_bool))"
   ]
  },
  {
   "cell_type": "markdown",
   "metadata": {},
   "source": [
    "### 4. Operasi Aritmatika\n",
    "Di gunakan untuk perhitungan"
   ]
  },
  {
   "cell_type": "code",
   "execution_count": null,
   "metadata": {},
   "outputs": [],
   "source": [
    "a = 100\n",
    "b = 12\n",
    "\n",
    "tambah = a + b\n",
    "print(\"Tambah : \", tambah)\n",
    "kurang = a - b\n",
    "print(\"Kurang : \", kurang)\n",
    "kali = a * b\n",
    "print(\"Kali : \", kali)\n",
    "bagi = a / b\n",
    "print(\"Bagi : \", bagi)\n",
    "eksponen = a ** b\n",
    "print(\"Eksponensial : \", eksponen)\n",
    "modulus = a % b\n",
    "print(\"Modulus : \", modulus)\n",
    "bagi_floor = a // b\n",
    "print(\"Bagi Floor : \", bagi_floor)\n",
    "\n",
    "# prioritas operasi, operational precedence\n",
    "'''\n",
    "    1. ()\n",
    "    2. exponen **\n",
    "    3. perkalian dan teman-teman * / ** % //\n",
    "    4. pertambahan dan pengurangan + -\n",
    "'''\n",
    "\n",
    "x = 3\n",
    "y = 2\n",
    "z = 4\n",
    "\n",
    "hasil = x ** y * (z + x) / y - y % z // x\n",
    "print(x,'**',y,'*',z,'+',x,'/',y,'-',y,'%',z,'//',x,'=',hasil)\n",
    "\n",
    "hasil = x + y * z\n",
    "print(x,'+',y,'*',z,'=',hasil)\n",
    "# kurung akan mengambil langkah paling pertama\n",
    "hasil = (x + y) * z \n",
    "print('(',x,'+',y,') *',z,'=',hasil)"
   ]
  },
  {
   "cell_type": "markdown",
   "metadata": {},
   "source": [
    "### 5. Komparasi\n",
    "Jenis komparasi sebagai berikut: >,<,>=,<=,==,!=,is,is not. <br/>\n",
    "Output dari komparasi boolean"
   ]
  },
  {
   "cell_type": "code",
   "execution_count": null,
   "metadata": {},
   "outputs": [],
   "source": [
    "hasil = b == 4\n",
    "print(b,'==',4,'=',hasil)\n",
    "\n",
    "print(\"Tidak sama dengan 4 != 3 \", 4 != 3)\n",
    "print(\"Sama Dengan 4 == 6 \", 4 == 6)\n",
    "\n",
    "print(\"Lebih dari 5 > 3 \", 5 > 3)\n",
    "print(\"Lebih dari sama dengan 4 >= 3 \", 4 >= 3)\n",
    "\n",
    "print(\"Lebih kecil 3 < 4 \", 3 < 4)\n",
    "print(\"Lebih kecil dari sama dengan 4 <= 2 \", 4 <= 2)\n",
    "\n",
    "# 'is' sebagai komparasi object identity\n",
    "print('======== object identity(is) and is not')\n",
    "\n",
    "x = 5\n",
    "y = 5\n",
    "print('nilai x =',x,',id = ',hex(id(x)))\n",
    "print('nilai y =',y,',id = ',hex(id(y)))\n",
    "hasil = x is y\n",
    "print('x is y =',hasil)\n",
    "hasil = x is not y\n",
    "print('x is y =',hasil)"
   ]
  },
  {
   "cell_type": "markdown",
   "metadata": {},
   "source": [
    "### 6. Operasi Logika\n",
    "not, or, and, xor"
   ]
  },
  {
   "cell_type": "code",
   "execution_count": null,
   "metadata": {},
   "outputs": [],
   "source": [
    "a = True\n",
    "b = False\n",
    "\n",
    "print(\"AND :\", a and b)\n",
    "print(\"OR :\", a or b)\n",
    "print(\"XOR :\", a ^ b)\n",
    "print(\"NOT :\", not a )"
   ]
  },
  {
   "cell_type": "markdown",
   "metadata": {},
   "source": [
    "### 7. Operasi Bitwise\n",
    "Bitwise OR (|), AND (&), XOR (^), NOT (~), ShiftRight (>>), ShiftRight (<<)"
   ]
  },
  {
   "cell_type": "code",
   "execution_count": null,
   "metadata": {},
   "outputs": [],
   "source": [
    "a = 9\n",
    "b = 5\n",
    "\n",
    "c = a | b\n",
    "print('\\n=========OR=========')\n",
    "print('nilai :',a,' , binary :',format(a,'08b'))\n",
    "print('nilai :',b,' , binary :',format(b,'08b'))\n",
    "print('----------------------------- (|)')\n",
    "print('nilai :',c,' , binary :',format(c,'08b'))\n",
    "\n",
    "# bitwise AND (&)\n",
    "c = a & b\n",
    "print('\\n=========AND========')\n",
    "print('nilai :',a,' , binary :',format(a,'08b'))\n",
    "print('nilai :',b,' , binary :',format(b,'08b'))\n",
    "print('----------------------------- (&)')\n",
    "print('nilai :',c,' , binary :',format(c,'08b'))\n",
    "\n",
    "# bitwise XOR (^)\n",
    "c = a ^ b\n",
    "print('\\n=========XOR========')\n",
    "print('nilai :',a,' , binary :',format(a,'08b'))\n",
    "print('nilai :',b,' , binary :',format(b,'08b'))\n",
    "print('----------------------------- (^)')\n",
    "print('nilai :',c,' , binary :',format(c,'08b'))\n",
    "\n",
    "# bitwise NOT (~)\n",
    "c = ~a\n",
    "print('\\n=========NOT========')\n",
    "print('nilai :',a,' , binary :',format(a,'08b'))\n",
    "print('----------------------------- (~)')\n",
    "print('nilai :',c,' , binary :',format(c,'08b'))\n",
    "print('----------------------------- (^)')\n",
    "\n",
    "# shift right (>>)\n",
    "c = a >> 2\n",
    "print('\\n=========>>=========')\n",
    "print('nilai :',a,' , binary :',format(a,'08b'))\n",
    "print('----------------------------- (>>)')\n",
    "print('nilai :',c,' , binary :',format(c,'08b'))\n",
    "\n",
    "# shift left (<<)\n",
    "c = a << 2\n",
    "print('\\n=========<<=========')\n",
    "print('nilai :',a,' , binary :',format(a,'08b'))\n",
    "print('----------------------------- (<<)')\n",
    "print('nilai :',c,' , binary :',format(c,'08b'))"
   ]
  },
  {
   "cell_type": "markdown",
   "metadata": {},
   "source": [
    "### 8. Operator Assignment"
   ]
  },
  {
   "cell_type": "code",
   "execution_count": 36,
   "metadata": {},
   "outputs": [],
   "source": [
    "# Assignment Aritmatika\n",
    "a = 5\n",
    "a += 1 # a = a + 1\n",
    "a -= 2 # a = a - 2\n",
    "a *= 3 # a = a * 3\n",
    "a /= 2 # a = a / 2\n",
    "a %= 4 # a = a % 4\n",
    "a //= 3 # a = a // 3\n",
    "a **= 2 # a = a ** 2\n",
    "\n",
    "# Assignment Bitwise\n",
    "b = True\n",
    "b |= False # b = b | False\n",
    "b &= True # b = b & True\n",
    "b ^= False # b = b ^ False\n",
    "\n",
    "f = 0b011100\n",
    "f >>= 2 # f = f >> 2\n",
    "f <<= 3 # f = f << 3"
   ]
  }
 ],
 "metadata": {
  "kernelspec": {
   "display_name": "Python 3",
   "language": "python",
   "name": "python3"
  },
  "language_info": {
   "codemirror_mode": {
    "name": "ipython",
    "version": 3
   },
   "file_extension": ".py",
   "mimetype": "text/x-python",
   "name": "python",
   "nbconvert_exporter": "python",
   "pygments_lexer": "ipython3",
   "version": "3.9.2"
  }
 },
 "nbformat": 4,
 "nbformat_minor": 2
}
