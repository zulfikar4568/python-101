{
 "cells": [
  {
   "cell_type": "code",
   "execution_count": null,
   "metadata": {},
   "outputs": [],
   "source": [
    "umur = int(input(\"Berapa umur anda?\"))\n",
    "\n",
    "if umur <= 10:\n",
    "  print(\"Anda masih anak - anak\")\n",
    "elif umur > 10 and umur <= 20:\n",
    "  print(\"Anda adalah ABG\")\n",
    "elif umur > 20 and umur <= 35:\n",
    "  print(\"Anda adalah dewasa\")\n",
    "elif umur > 35 and umur <= 50:\n",
    "  print(\"Anda sudah mulai Tua\")\n",
    "else:\n",
    "  print(\"Anda Tua\")"
   ]
  }
 ],
 "metadata": {
  "kernelspec": {
   "display_name": "Python 3",
   "language": "python",
   "name": "python3"
  },
  "language_info": {
   "codemirror_mode": {
    "name": "ipython",
    "version": 3
   },
   "file_extension": ".py",
   "mimetype": "text/x-python",
   "name": "python",
   "nbconvert_exporter": "python",
   "pygments_lexer": "ipython3",
   "version": "3.9.2"
  }
 },
 "nbformat": 4,
 "nbformat_minor": 2
}
