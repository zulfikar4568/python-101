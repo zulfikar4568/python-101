{
 "cells": [
  {
   "cell_type": "markdown",
   "metadata": {},
   "source": [
    "### For Looping"
   ]
  },
  {
   "cell_type": "code",
   "execution_count": null,
   "metadata": {},
   "outputs": [],
   "source": [
    "# Menggunakan LIST\n",
    "kumpulan_angka = [0,2,4,6,8]\n",
    "\n",
    "for i in kumpulan_angka:\n",
    "  print(i)\n",
    "\n",
    "print(10*\"=\"+\"BATAS\"+10*\"=\")\n",
    "\n",
    "# Menggunakan Range\n",
    "range_angka = range(5)\n",
    "\n",
    "for i in range_angka:\n",
    "  print(i)\n",
    "\n",
    "print(10*\"=\"+\"BATAS\"+10*\"=\")\n",
    "\n",
    "range_angka = range(1,10)\n",
    "\n",
    "for i in range_angka:\n",
    "  print(i)\n",
    "\n",
    "print(10*\"=\"+\"BATAS\"+10*\"=\")\n",
    "\n",
    "# Menggunakan String\n",
    "nama = \"M Zulfikar Isnaen\"\n",
    "\n",
    "for i in nama:\n",
    "  print(i)"
   ]
  },
  {
   "cell_type": "markdown",
   "metadata": {},
   "source": [
    "### While Looping"
   ]
  },
  {
   "cell_type": "code",
   "execution_count": null,
   "metadata": {},
   "outputs": [],
   "source": [
    "angka = 0\n",
    "hitung_sampai = 5\n",
    "\n",
    "while (angka < 10):\n",
    "  angka += 1\n",
    "\n",
    "  if angka == 3:\n",
    "    print(\"Loncat angka ini: \", angka)\n",
    "    continue # Continue\n",
    "\n",
    "  print(\"Tampilkan ini: \", angka)\n",
    "\n",
    "  if (angka == hitung_sampai):\n",
    "    break # Break\n"
   ]
  }
 ],
 "metadata": {
  "kernelspec": {
   "display_name": "Python 3",
   "language": "python",
   "name": "python3"
  },
  "language_info": {
   "codemirror_mode": {
    "name": "ipython",
    "version": 3
   },
   "file_extension": ".py",
   "mimetype": "text/x-python",
   "name": "python",
   "nbconvert_exporter": "python",
   "pygments_lexer": "ipython3",
   "version": "3.9.2"
  }
 },
 "nbformat": 4,
 "nbformat_minor": 2
}
