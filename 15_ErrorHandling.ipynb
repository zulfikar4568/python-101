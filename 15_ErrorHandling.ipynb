{
 "cells": [
  {
   "cell_type": "markdown",
   "metadata": {},
   "source": [
    "### Contoh 1"
   ]
  },
  {
   "cell_type": "code",
   "execution_count": null,
   "metadata": {},
   "outputs": [],
   "source": [
    "inputan_user = int(input('Masukan angka: '))\n",
    "hasil = 0\n",
    "\n",
    "try:\n",
    "  inputan_user = 10/input\n",
    "except:\n",
    "  print('Pembagi tidak boleh 0')"
   ]
  },
  {
   "cell_type": "markdown",
   "metadata": {},
   "source": [
    "### Contoh 2"
   ]
  },
  {
   "cell_type": "code",
   "execution_count": null,
   "metadata": {},
   "outputs": [],
   "source": [
    "while(True):\n",
    "  angka = int(input(\"masukan angka pembagi: \"))\n",
    "  \n",
    "  try:\n",
    "    hasil = 10/angka\n",
    "    print(f\"Hasil: {hasil}\")\n",
    "    is_done = input(\"Lanjutkan (y/n)?\")\n",
    "    if is_done == \"n\":\n",
    "      break\n",
    "  \n",
    "  except:\n",
    "    print('Pembagi tidak boleh 0')"
   ]
  },
  {
   "cell_type": "markdown",
   "metadata": {},
   "source": [
    "### Membuat exception"
   ]
  },
  {
   "cell_type": "code",
   "execution_count": null,
   "metadata": {},
   "outputs": [],
   "source": [
    "from numbers import Number\n",
    "\n",
    "\n",
    "def tambah(a,b):\n",
    "  if not isinstance(a, Number) or not isinstance(b, Number):\n",
    "    raise \"Input harus integer\"\n",
    "  return a + b\n",
    "\n",
    "# print(tambah(10,'asdasd'))  \n",
    "print(tambah(10,5))  "
   ]
  },
  {
   "cell_type": "markdown",
   "metadata": {},
   "source": [
    "### Mengambil exception"
   ]
  },
  {
   "cell_type": "code",
   "execution_count": null,
   "metadata": {},
   "outputs": [],
   "source": [
    "angka = 0\n",
    "try:\n",
    "    hasil = 10/angka\n",
    "except Exception as exception:\n",
    "    print(exception)"
   ]
  }
 ],
 "metadata": {
  "kernelspec": {
   "display_name": "Python 3",
   "language": "python",
   "name": "python3"
  },
  "language_info": {
   "codemirror_mode": {
    "name": "ipython",
    "version": 3
   },
   "file_extension": ".py",
   "mimetype": "text/x-python",
   "name": "python",
   "nbconvert_exporter": "python",
   "pygments_lexer": "ipython3",
   "version": "3.9.2"
  }
 },
 "nbformat": 4,
 "nbformat_minor": 2
}
