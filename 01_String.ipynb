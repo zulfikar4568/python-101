{
 "cells": [
  {
   "cell_type": "markdown",
   "metadata": {},
   "source": [
    "# String"
   ]
  },
  {
   "cell_type": "markdown",
   "metadata": {},
   "source": [
    "### Cara Membuat String\n",
    "Bisa dengan menggunakan '...' atau \"...\""
   ]
  },
  {
   "cell_type": "code",
   "execution_count": null,
   "metadata": {},
   "outputs": [],
   "source": [
    "data = 'Saya'\n",
    "print(\"Datanya: \", data, \" Tipe nya: \", type(data))\n",
    "data = \"Saya2\"\n",
    "print(\"Datanya: \", data, \" Tipe nya: \", type(data))\n"
   ]
  },
  {
   "cell_type": "markdown",
   "metadata": {},
   "source": [
    "### Membuat tanda \\"
   ]
  },
  {
   "cell_type": "code",
   "execution_count": null,
   "metadata": {},
   "outputs": [],
   "source": [
    "print('Doesn\\'t')\n",
    "print(\"C:\\\\user\\\\zulfikar\")\n",
    "print('Ini adalah tab \\t \\t tab')\n",
    "print(\"ucup \\botong, jadi deketan\")\n",
    "print(\"Ini baris satu \\n\")\n",
    "print(\"Ini baris dua \\n\")"
   ]
  },
  {
   "cell_type": "markdown",
   "metadata": {},
   "source": [
    "### String Literal"
   ]
  },
  {
   "cell_type": "code",
   "execution_count": 11,
   "metadata": {},
   "outputs": [
    {
     "name": "stdout",
     "output_type": "stream",
     "text": [
      "C:\n",
      "ew folder\n",
      "C:\\new folder\n",
      "\n",
      "Nama : Ucup\n",
      "Kelas : 3 SD   \n",
      "\n",
      "\n",
      "Nama : Ucup\n",
      "Kelas : 3 SD\\new normal \n",
      "Website : www.ucup.com/newID\n",
      "\n"
     ]
    }
   ],
   "source": [
    "print('C:\\new folder') # akan salah pathnya\n",
    "print(r'C:\\new folder') # menggunakan raw string\n",
    "\n",
    "# multiline literal string\n",
    "print(\"\"\"\n",
    "Nama : Ucup\n",
    "Kelas : 3 SD   \n",
    "\"\"\")\n",
    "\n",
    "# multiline literal string dan RAW\n",
    "print(r\"\"\"\n",
    "Nama : Ucup\n",
    "Kelas : 3 SD\\new normal \n",
    "Website : www.ucup.com/newID\n",
    "\"\"\")"
   ]
  }
 ],
 "metadata": {
  "kernelspec": {
   "display_name": "Python 3",
   "language": "python",
   "name": "python3"
  },
  "language_info": {
   "codemirror_mode": {
    "name": "ipython",
    "version": 3
   },
   "file_extension": ".py",
   "mimetype": "text/x-python",
   "name": "python",
   "nbconvert_exporter": "python",
   "pygments_lexer": "ipython3",
   "version": "3.9.2"
  }
 },
 "nbformat": 4,
 "nbformat_minor": 2
}
