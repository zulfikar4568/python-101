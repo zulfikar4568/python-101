{
 "cells": [
  {
   "cell_type": "markdown",
   "metadata": {},
   "source": [
    "# String"
   ]
  },
  {
   "cell_type": "markdown",
   "metadata": {},
   "source": [
    "### Cara Membuat String\n",
    "Bisa dengan menggunakan '...' atau \"...\""
   ]
  },
  {
   "cell_type": "code",
   "execution_count": null,
   "metadata": {},
   "outputs": [],
   "source": [
    "data = 'Saya'\n",
    "print(\"Datanya: \", data, \" Tipe nya: \", type(data))\n",
    "data = \"Saya2\"\n",
    "print(\"Datanya: \", data, \" Tipe nya: \", type(data))\n"
   ]
  },
  {
   "cell_type": "markdown",
   "metadata": {},
   "source": [
    "### Membuat tanda \\"
   ]
  },
  {
   "cell_type": "code",
   "execution_count": null,
   "metadata": {},
   "outputs": [],
   "source": [
    "print('Doesn\\'t')\n",
    "print(\"C:\\\\user\\\\zulfikar\")\n",
    "print('Ini adalah tab \\t \\t tab')\n",
    "print(\"ucup \\botong, jadi deketan\")\n",
    "print(\"Ini baris satu \\n\")\n",
    "print(\"Ini baris dua \\n\")"
   ]
  },
  {
   "cell_type": "markdown",
   "metadata": {},
   "source": [
    "### String Literal"
   ]
  },
  {
   "cell_type": "code",
   "execution_count": null,
   "metadata": {},
   "outputs": [],
   "source": [
    "print('C:\\new folder') # akan salah pathnya\n",
    "print(r'C:\\new folder') # menggunakan raw string\n",
    "\n",
    "# multiline literal string\n",
    "print(\"\"\"\n",
    "Nama : Ucup\n",
    "Kelas : 3 SD   \n",
    "\"\"\")\n",
    "\n",
    "# multiline literal string dan RAW\n",
    "print(r\"\"\"\n",
    "Nama : Ucup\n",
    "Kelas : 3 SD\\new normal \n",
    "Website : www.ucup.com/newID\n",
    "\"\"\")"
   ]
  },
  {
   "cell_type": "markdown",
   "metadata": {},
   "source": [
    "### Concatenation\n",
    "Menyambungkan string"
   ]
  },
  {
   "cell_type": "code",
   "execution_count": null,
   "metadata": {},
   "outputs": [],
   "source": [
    "first_name = \"Zulfikar\"\n",
    "last_name = \"Isnaen\"\n",
    "\n",
    "nama_lengkap = first_name + last_name\n",
    "\n",
    "print(nama_lengkap)\n",
    "print(first_name + \" \" + last_name)"
   ]
  },
  {
   "cell_type": "markdown",
   "metadata": {},
   "source": [
    "### Menghitung panjang string"
   ]
  },
  {
   "cell_type": "code",
   "execution_count": null,
   "metadata": {},
   "outputs": [],
   "source": [
    "panjang = len(nama_lengkap)\n",
    "print(panjang)"
   ]
  },
  {
   "cell_type": "markdown",
   "metadata": {},
   "source": [
    "### Cek apakah ada item tertentu dalam string"
   ]
  },
  {
   "cell_type": "code",
   "execution_count": null,
   "metadata": {},
   "outputs": [],
   "source": [
    "status = \"Zul\" in nama_lengkap\n",
    "print(str(status))"
   ]
  },
  {
   "cell_type": "markdown",
   "metadata": {},
   "source": [
    "### Mengulang string"
   ]
  },
  {
   "cell_type": "code",
   "execution_count": null,
   "metadata": {},
   "outputs": [],
   "source": [
    "print(\"halo_ \"*100)"
   ]
  },
  {
   "cell_type": "markdown",
   "metadata": {},
   "source": [
    "### Indexing"
   ]
  },
  {
   "cell_type": "code",
   "execution_count": null,
   "metadata": {},
   "outputs": [],
   "source": [
    "print(\"Index ke 2 adalah: \", nama_lengkap[2])\n",
    "print(\"Index ke -1 adalah: \", nama_lengkap[-1])\n",
    "print(\"Index ke [0,2,4,6,8] adalah: \", nama_lengkap[0:10:2])"
   ]
  },
  {
   "cell_type": "markdown",
   "metadata": {},
   "source": [
    "### Min Max string"
   ]
  },
  {
   "cell_type": "code",
   "execution_count": null,
   "metadata": {},
   "outputs": [],
   "source": [
    "print(nama_lengkap)\n",
    "print(min(nama_lengkap))\n",
    "print(max(nama_lengkap))"
   ]
  },
  {
   "cell_type": "markdown",
   "metadata": {},
   "source": [
    "### Ascii"
   ]
  },
  {
   "cell_type": "code",
   "execution_count": null,
   "metadata": {},
   "outputs": [],
   "source": [
    "ascii_code = ord(\" \")\n",
    "print(\"ASCII number dari spasi : \" + str(ascii_code))\n",
    "data = 117\n",
    "print(\"Character dari ascii code 117 : \" + chr(data))"
   ]
  },
  {
   "cell_type": "markdown",
   "metadata": {},
   "source": [
    "### Operator pada string\n",
    "\n",
    "- islower() <- untuk pengecekan apakah lower case semua\n",
    "- isalpha() <- untuk mengecek apakah huruf semua\n",
    "- isalnum() <- apakah huruf dan angka\n",
    "- isdecimal() <- apakah numeric\n",
    "- isspace() <- apakah isinya spasi, tab dan enter (newline \\n)\n",
    "- istitle() <- huruf pertama setiap kata upper case"
   ]
  },
  {
   "cell_type": "code",
   "execution_count": null,
   "metadata": {},
   "outputs": [],
   "source": [
    "data = \"Hi Jax\"\n",
    "\n",
    "print(data.count(\"i\"))\n",
    "print(data.upper())\n",
    "print(data.lower())\n",
    "\n",
    "data_upper = \"HAHA\"\n",
    "print(data_upper.isupper())\n",
    "print(data_upper.lower().islower())\n",
    "\n",
    "kucing = \"Saya adalah kucing\"\n",
    "\n",
    "print(kucing.startswith(\"Saya\"))\n",
    "print(kucing.endswith(\"cing\"))\n",
    "\n",
    "anjing = [\"ini \" \"adalah\", \"anjing\", \"pitbull\"]\n",
    "gabung = \" \".join(anjing)\n",
    "print(gabung)\n",
    "\n",
    "liburan = \"sedang liburan ke bali\"\n",
    "print(liburan.split(\" \"))\n",
    "\n",
    "print(\"kanan\".rjust(20))\n",
    "print(\"kiri\".ljust(20))\n",
    "print(\"tengah\".center(20))\n",
    "print(\"tengah\".center(20,'-'))\n",
    "\n",
    "kanan = \"kanan\".rjust(20)\n",
    "print(kanan.strip())\n",
    "\n",
    "tengah =\"tengah\".center(20,'-')\n",
    "print(tengah.strip('-'))"
   ]
  },
  {
   "cell_type": "markdown",
   "metadata": {},
   "source": [
    "### Format String"
   ]
  },
  {
   "cell_type": "code",
   "execution_count": null,
   "metadata": {},
   "outputs": [],
   "source": [
    "# format string\n",
    "\n",
    "# contoh generic\n",
    "# string\n",
    "nama = \"ucup\"\n",
    "format_str = f\"hello {nama}\"\n",
    "print(format_str)\n",
    "\n",
    "# boolean\n",
    "boolean = False\n",
    "format_str = f\"boolean = {boolean}\"\n",
    "print(format_str)\n",
    "\n",
    "# angka\n",
    "angka = 2005.5\n",
    "format_str = f\"angka = {angka}\"\n",
    "print(format_str)\n",
    "\n",
    "# bilangan bulat\n",
    "angka = 15\n",
    "format_str = f\"bilangan bulat = {angka:d}\"\n",
    "print(format_str)\n",
    "\n",
    "# bilangan dengan ordo ribuan\n",
    "angka = 2000000\n",
    "format_str = f\"jutaan = {angka:,}\"\n",
    "print(format_str)\n",
    "\n",
    "# bilangan desimal\n",
    "angka = 2005.54321\n",
    "format_str = f\"desimal = {angka:.3f}\"\n",
    "print(format_str)\n",
    "\n",
    "# menampilkan leading zero\n",
    "angka = 2005.54321\n",
    "format_str = f\"desimal = {angka:010.3f}\"\n",
    "print(format_str)\n",
    "\n",
    "# menampilkan tanda + atau -\n",
    "angka_minus = -10\n",
    "angka_plus = +10.1234\n",
    "format_minus = f\"minus = {angka_minus:+d}\"\n",
    "format_plus = f\"plus = {angka_plus:+.2f}\"\n",
    "\n",
    "print(format_minus)\n",
    "print(format_plus)\n",
    "\n",
    "# memformat persen\n",
    "persentase = 0.045\n",
    "format_persen = f\"persen = {persentase:.2%}\"\n",
    "\n",
    "print(format_persen)\n",
    "\n",
    "# melakukan operasi aritmatika di dalam placeholder\n",
    "harga = 10000\n",
    "jumlah = 5\n",
    "\n",
    "format_string = f\"harga total = Rp. {harga*jumlah:,}\"\n",
    "print(format_string)\n",
    "\n",
    "# format angka lain (binary, octal, hexadecimal)\n",
    "\n",
    "angka = 255\n",
    "format_binary = f\"binary = {bin(angka)}\"\n",
    "format_octal = f\"octal = {oct(angka)}\"\n",
    "format_hex = f\"hex = {hex(angka)}\"\n",
    "\n",
    "print(format_binary)\n",
    "print(format_octal)\n",
    "print(format_hex)"
   ]
  },
  {
   "cell_type": "markdown",
   "metadata": {},
   "source": [
    "### Format String Width dan alignment"
   ]
  },
  {
   "cell_type": "code",
   "execution_count": null,
   "metadata": {},
   "outputs": [],
   "source": [
    "data_nama = \"Zulfikar\"\n",
    "data_umur = 25\n",
    "tinggi = 165\n",
    "\n",
    "data_string = f\"nama = {data_nama}, umur = {data_umur}, tinggi badan = {tinggi}\"\n",
    "print(5*\"=\"+\"Data String\"+5*\"=\")\n",
    "print(data_string)\n",
    "\n",
    "# String multiline (dengan menggunakan enter, newline, \\n)\n",
    "data_string = f\"nama = {data_nama}, \\numur = {data_umur}, \\ntinggi = {tinggi}\"\n",
    "print(\"\\n\"+5*\"=\"+\"Data String\"+5*\"=\")\n",
    "print(data_string)\n",
    "\n",
    "# mengatur lebar\n",
    "data_nama = \"Ucup Surucup\"\n",
    "data_tinggi = 105.17\n",
    "data_string = f\"\"\"\n",
    "nama   = {data_nama:>5}\n",
    "umur   = {data_umur:>5}\n",
    "tinggi = {data_tinggi:>5}\n",
    "\"\"\"\n",
    "print(\"\\n\"+5*\"=\"+\"Data String\"+5*\"=\")\n",
    "print(data_string)"
   ]
  }
 ],
 "metadata": {
  "kernelspec": {
   "display_name": "Python 3",
   "language": "python",
   "name": "python3"
  },
  "language_info": {
   "codemirror_mode": {
    "name": "ipython",
    "version": 3
   },
   "file_extension": ".py",
   "mimetype": "text/x-python",
   "name": "python",
   "nbconvert_exporter": "python",
   "pygments_lexer": "ipython3",
   "version": "3.9.2"
  }
 },
 "nbformat": 4,
 "nbformat_minor": 2
}
