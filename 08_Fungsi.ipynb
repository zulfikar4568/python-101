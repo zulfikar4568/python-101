{
 "cells": [
  {
   "cell_type": "markdown",
   "metadata": {},
   "source": [
    "### Fungsi tanpa balikan"
   ]
  },
  {
   "cell_type": "code",
   "execution_count": null,
   "metadata": {},
   "outputs": [],
   "source": [
    "def fungsi_tanpa_balikan():\n",
    "  print('Ini adalah fungsi tanpa balikan!')\n",
    "\n",
    "fungsi_tanpa_balikan()"
   ]
  },
  {
   "cell_type": "markdown",
   "metadata": {},
   "source": [
    "### Fungsi dengan balikan"
   ]
  },
  {
   "cell_type": "code",
   "execution_count": null,
   "metadata": {},
   "outputs": [],
   "source": [
    "def fungsi_dengan_balikan_string():\n",
    "  return 'balikan string'\n",
    "\n",
    "print(fungsi_dengan_balikan_string())\n",
    "\n",
    "def fungsi_dengan_banyak_balikan():\n",
    "  data_string = '123'\n",
    "  data_int = 123\n",
    "  data_list = [1,2,3]\n",
    "  return data_string, data_int, data_list\n",
    "\n",
    "data1, data2, data3 = fungsi_dengan_banyak_balikan()\n",
    "print(data1, data2, data3)"
   ]
  },
  {
   "cell_type": "markdown",
   "metadata": {},
   "source": [
    "### Fungsi Argument atau Parameter"
   ]
  },
  {
   "cell_type": "code",
   "execution_count": null,
   "metadata": {},
   "outputs": [],
   "source": [
    "def tambah(nilai1, nilai2):\n",
    "  return nilai1 + nilai2\n",
    "\n",
    "print(tambah(3,4))"
   ]
  },
  {
   "cell_type": "markdown",
   "metadata": {},
   "source": [
    "### Fungsi Default Argument atau Parameter"
   ]
  },
  {
   "cell_type": "code",
   "execution_count": null,
   "metadata": {},
   "outputs": [],
   "source": [
    "def keliling_lingkaran(r, phi = 3.14):\n",
    "  return 2 * phi * r\n",
    "\n",
    "print(keliling_lingkaran(14))"
   ]
  },
  {
   "cell_type": "markdown",
   "metadata": {},
   "source": [
    "### Type Hints pada Fungsi"
   ]
  },
  {
   "cell_type": "code",
   "execution_count": null,
   "metadata": {},
   "outputs": [],
   "source": [
    "# bentuk standar fungsi yang udah kita pelajari\n",
    "# Permasalahan di bawah ini ketika kita masukan parameter nya string, maka string tidak bisa di kuadrat\n",
    "def fungsi(parameter):\n",
    "    hasil = parameter**2\n",
    "    print(hasil)\n",
    "\n",
    "fungsi(1)\n",
    "fungsi(\"Ucup\") # Error!!\n",
    "fungsi(True)"
   ]
  },
  {
   "cell_type": "code",
   "execution_count": null,
   "metadata": {},
   "outputs": [],
   "source": [
    "def fungsi_dengan_hints_return_any(parameter: int):\n",
    "  output = 10**parameter\n",
    "  return output\n",
    "\n",
    "fungsi_dengan_hints_return_any(5)\n",
    "\n",
    "def fungsi_dengan_hints_return_int(parameter: int) -> int:\n",
    "  output = 10**parameter\n",
    "  return output\n",
    "\n",
    "fungsi_dengan_hints_return_int(5)\n",
    "\n",
    "def fungsi_dengan_hints_return_banyak(parameter: int) -> tuple[int, str]:\n",
    "  return parameter, 'dwwerwerwerewr'\n",
    "\n",
    "data1, data2 = fungsi_dengan_hints_return_banyak(10)"
   ]
  },
  {
   "cell_type": "markdown",
   "metadata": {},
   "source": [
    "### *args pada fungsi\n",
    "*args tersebut tipe nya tuples"
   ]
  },
  {
   "cell_type": "code",
   "execution_count": null,
   "metadata": {},
   "outputs": [],
   "source": [
    "def fungsi_args(*args):\n",
    "  data1 = args[0]\n",
    "  data2 = args[1]\n",
    "  data3 = args[2]\n",
    "  print(data1, data2, data3)\n",
    "\n",
    "fungsi_args('123', 234, 'isnaen')\n",
    "\n",
    "def tambah(*data):\n",
    "  output = 0\n",
    "  for i in data:\n",
    "    output += i\n",
    "  \n",
    "  return output\n",
    "\n",
    "print(tambah(1,3,5,6,2,7,6,4))"
   ]
  },
  {
   "cell_type": "markdown",
   "metadata": {},
   "source": [
    "### **kwargs pada fungsi\n",
    "**kwargs terbut tipe nya merupakan dictionary"
   ]
  },
  {
   "cell_type": "code",
   "execution_count": null,
   "metadata": {},
   "outputs": [],
   "source": [
    "def fungsi_kwargs(**kwargs):\n",
    "  print(kwargs)\n",
    "\n",
    "fungsi_kwargs(data1 = 10, data2 = 50, data3 = 100)"
   ]
  },
  {
   "cell_type": "markdown",
   "metadata": {},
   "source": [
    "### Studi Kasus *args dan **kwargs"
   ]
  },
  {
   "cell_type": "code",
   "execution_count": null,
   "metadata": {},
   "outputs": [],
   "source": [
    "def math(*args,**kwargs):\n",
    "    output = 0\n",
    "    if kwargs[\"option\"] == \"tambah\":\n",
    "        for angka in args:\n",
    "            output +=angka\n",
    "    elif kwargs[\"option\"] == \"kali\":\n",
    "        output = 1\n",
    "        for angka in args:\n",
    "            output *= angka\n",
    "    else:\n",
    "        print(\"tidak ada operasi\")\n",
    "\n",
    "    return output\n",
    "\n",
    "hasil = math(1,2,3,4,option=\"tambah\")\n",
    "\n",
    "print(f\"hasil jumlah {hasil}\")\n",
    "\n",
    "hasil = math(1,2,3,4,option=\"kali\")\n",
    "print(f\"hasil kali {hasil}\")"
   ]
  },
  {
   "cell_type": "markdown",
   "metadata": {},
   "source": [
    "### Lambda function\n",
    "output = lambda argument: expression"
   ]
  },
  {
   "cell_type": "code",
   "execution_count": null,
   "metadata": {},
   "outputs": [],
   "source": [
    "def f_kuadrat(angka):\n",
    "  return angka**2\n",
    "\n",
    "print(f\"hasil fungsi kuadrat = {f_kuadrat(3)}\")\n",
    "\n",
    "kuadrat = lambda angka:angka**2\n",
    "\n",
    "kuadrat(2)\n",
    "print(f\"hasil lambda kuadrat = {kuadrat(5)}\")\n",
    "\n",
    "pangkat = lambda num,pow: num**pow\n",
    "print(f\"hasil lambda pangkat = {pangkat(5,3)}\")"
   ]
  },
  {
   "cell_type": "code",
   "execution_count": null,
   "metadata": {},
   "outputs": [],
   "source": [
    "# usecase\n",
    "\n",
    "data_list = ['Iphone', 'Android', 'Microcontroller']\n",
    "\n",
    "# Kasus Sort\n",
    "data_list.sort()\n",
    "print(data_list)\n",
    "\n",
    "def berdasarkan_panjang_nama(nama):\n",
    "  return len(nama)\n",
    "\n",
    "data_list.sort(key=berdasarkan_panjang_nama)\n",
    "print(data_list)\n",
    "\n",
    "data_list = ['Iphone', 'Android', 'Microcontroller']\n",
    "data_list.sort(key=lambda nama:len(nama))\n",
    "print(data_list)\n",
    "\n",
    "# Kasus Filter\n",
    "data_angka = [1,2,3,4,5,6,7,8,9,10,11,12,13,14,15,16,17,18,19,20]\n",
    "\n",
    "def angka_yang_kurang_dari_tujuh(angka):\n",
    "  return angka < 7\n",
    "\n",
    "print(list(filter(angka_yang_kurang_dari_tujuh, data_angka)))\n",
    "print(list(filter(lambda x:x<7, data_angka)))\n",
    "\n",
    "# Kasus filter genap\n",
    "print(list(filter(lambda x:x%2==0, data_angka)))\n",
    "\n",
    "# Kasus Ganjil\n",
    "print(list(filter(lambda x:x%2!=0, data_angka)))"
   ]
  },
  {
   "cell_type": "markdown",
   "metadata": {},
   "source": [
    "### Fungsi Anonymous"
   ]
  },
  {
   "cell_type": "code",
   "execution_count": null,
   "metadata": {},
   "outputs": [],
   "source": [
    "def pangkat(n):\n",
    "  return lambda angka:angka**n\n",
    "\n",
    "print(pangkat(10)(2))\n",
    "\n",
    "pangkat3 = pangkat(3)\n",
    "print(pangkat3(3))"
   ]
  },
  {
   "cell_type": "markdown",
   "metadata": {},
   "source": [
    "### Global dan Local Scope"
   ]
  },
  {
   "cell_type": "code",
   "execution_count": null,
   "metadata": {},
   "outputs": [],
   "source": [
    "# Global Variables Scope\n",
    "nama_global = 'Zulfikar'\n",
    "\n",
    "def fungsi1():\n",
    "  print(nama_global) # akses variable global dalam fungsi\n",
    "\n",
    "fungsi1()\n",
    "\n",
    "for i in range(0,5):\n",
    "  print(f\"Loop {i} - Nama {nama_global}\") # akses variable global dalam loop\n",
    "\n",
    "# merubah variable global\n",
    "\n",
    "def fungsi_ubah(value):\n",
    "  nama_global = value # Kita tidak bisa mengubah variable global secara langsung\n",
    "\n",
    "fungsi_ubah('Isnaen')\n",
    "print(nama_global)\n",
    "\n",
    "def fungsi_ubah_2(value):\n",
    "  global nama_global\n",
    "  nama_global = value # Sekarang kita bisa mengubah variable global\n",
    "\n",
    "fungsi_ubah_2('Isnaen')\n",
    "print(nama_global)"
   ]
  },
  {
   "cell_type": "code",
   "execution_count": null,
   "metadata": {},
   "outputs": [],
   "source": [
    "# Local Variables Scope\n",
    "\n",
    "def fungsi2():\n",
    "  angka = 123\n",
    "\n",
    "# print(angka) # Tidak bisa mengakses karena scope nya hanya di dalam fungsi"
   ]
  }
 ],
 "metadata": {
  "kernelspec": {
   "display_name": "Python 3",
   "language": "python",
   "name": "python3"
  },
  "language_info": {
   "codemirror_mode": {
    "name": "ipython",
    "version": 3
   },
   "file_extension": ".py",
   "mimetype": "text/x-python",
   "name": "python",
   "nbconvert_exporter": "python",
   "pygments_lexer": "ipython3",
   "version": "3.9.2"
  }
 },
 "nbformat": 4,
 "nbformat_minor": 2
}
